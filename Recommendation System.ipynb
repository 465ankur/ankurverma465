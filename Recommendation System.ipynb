{
 "cells": [
  {
   "cell_type": "code",
   "execution_count": 21,
   "id": "6644ce16-42ab-47c9-a868-9d0c6e59a925",
   "metadata": {},
   "outputs": [
    {
     "name": "stdout",
     "output_type": "stream",
     "text": [
      "   anime_id                              name  \\\n",
      "0     32281                    Kimi no Na wa.   \n",
      "1      5114  Fullmetal Alchemist: Brotherhood   \n",
      "2     28977                          Gintama°   \n",
      "3      9253                       Steins;Gate   \n",
      "4      9969                     Gintama&#039;   \n",
      "\n",
      "                                               genre   type episodes  rating  \\\n",
      "0               Drama, Romance, School, Supernatural  Movie        1    9.37   \n",
      "1  Action, Adventure, Drama, Fantasy, Magic, Mili...     TV       64    9.26   \n",
      "2  Action, Comedy, Historical, Parody, Samurai, S...     TV       51    9.25   \n",
      "3                                   Sci-Fi, Thriller     TV       24    9.17   \n",
      "4  Action, Comedy, Historical, Parody, Samurai, S...     TV       51    9.16   \n",
      "\n",
      "   members  \n",
      "0   200630  \n",
      "1   793665  \n",
      "2   114262  \n",
      "3   673572  \n",
      "4   151266  \n",
      "Recommended Anime: 615                                    Naruto: Shippuuden\n",
      "1573    Naruto: Shippuuden Movie 3 - Hi no Ishi wo Tsu...\n",
      "1930                                    Dragon Ball Super\n",
      "3038                                         Tenjou Tenge\n",
      "486                              Boruto: Naruto the Movie\n",
      "Name: name, dtype: object\n"
     ]
    }
   ],
   "source": [
    "import pandas as pd\n",
    "from sklearn.metrics.pairwise import cosine_similarity\n",
    "from sklearn.feature_extraction.text import CountVectorizer\n",
    "\n",
    "# Load the dataset into a pandas DataFrame\n",
    "anime_df = pd.read_csv(r\"D:\\Data since couress\\Recommendation System\\Recommendation System\\anime.csv\")\n",
    "\n",
    "# Handle missing values\n",
    "anime_df['genre'] = anime_df['genre'].fillna('')\n",
    "anime_df['type'] = anime_df['type'].fillna('')\n",
    "anime_df['episodes'] = anime_df['episodes'].fillna(0)\n",
    "anime_df['rating'] = anime_df['rating'].fillna(0.0)\n",
    "\n",
    "# Explore the dataset to understand its structure and attributes\n",
    "print(anime_df.head())\n",
    "\n",
    "# Feature Extraction\n",
    "# Combine relevant features into a single string for each anime\n",
    "anime_df['features'] = anime_df['genre'] + ' ' + anime_df['type'] + ' ' + anime_df['episodes'].astype(str) + ' ' + anime_df['rating'].astype(str)\n",
    "\n",
    "# Convert categorical features into numerical representations using CountVectorizer\n",
    "vectorizer = CountVectorizer()\n",
    "feature_matrix = vectorizer.fit_transform(anime_df['features'])\n",
    "\n",
    "# Recommendation System\n",
    "def recommend_anime(anime_title, top_n=10):\n",
    "    # Find the index of the target anime\n",
    "    target_index = anime_df[anime_df['name'] == anime_title].index[0]\n",
    "    \n",
    "    # Compute cosine similarity between the target anime and all other anime\n",
    "    cosine_sim = cosine_similarity(feature_matrix[target_index], feature_matrix)\n",
    "    \n",
    "    # Get similarity scores for all anime and sort them in descending order\n",
    "    similarity_scores = list(enumerate(cosine_sim[0]))\n",
    "    similarity_scores = sorted(similarity_scores, key=lambda x: x[1], reverse=True)\n",
    "    \n",
    "    # Get indices of top_n most similar anime (excluding the target anime itself)\n",
    "    similar_anime_indices = [i[0] for i in similarity_scores[1:top_n+1]]\n",
    "    \n",
    "    # Return the titles of the recommended anime\n",
    "    return anime_df['name'].iloc[similar_anime_indices]\n",
    "\n",
    "# Example usage of the recommendation system\n",
    "recommended_anime = recommend_anime('Naruto', top_n=5)\n",
    "print(f\"Recommended Anime: {recommended_anime}\")\n"
   ]
  },
  {
   "cell_type": "code",
   "execution_count": null,
   "id": "84d402bc-6889-4e0b-9379-9da878eb6155",
   "metadata": {},
   "outputs": [],
   "source": []
  }
 ],
 "metadata": {
  "kernelspec": {
   "display_name": "Python 3 (ipykernel)",
   "language": "python",
   "name": "python3"
  },
  "language_info": {
   "codemirror_mode": {
    "name": "ipython",
    "version": 3
   },
   "file_extension": ".py",
   "mimetype": "text/x-python",
   "name": "python",
   "nbconvert_exporter": "python",
   "pygments_lexer": "ipython3",
   "version": "3.12.4"
  }
 },
 "nbformat": 4,
 "nbformat_minor": 5
}
