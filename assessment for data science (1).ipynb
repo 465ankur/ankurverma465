{
 "cells": [
  {
   "cell_type": "code",
   "execution_count": 1,
   "id": "6576a7a4-ac4f-4ae8-a897-e44ad1152657",
   "metadata": {},
   "outputs": [],
   "source": [
    "#print \"hello\""
   ]
  },
  {
   "cell_type": "code",
   "execution_count": 2,
   "id": "5a345df4-b7ea-4ac0-8706-bb562af257c6",
   "metadata": {},
   "outputs": [],
   "source": [
    "import pandas as pd\n",
    "# Load dataset\n",
    "data = pd.read_csv(r\"D:\\Data since couress\\Association Rules\\Online retail.CSV\")\n"
   ]
  },
  {
   "cell_type": "code",
   "execution_count": 3,
   "id": "7346b998-b8fc-489e-a9e2-2f39045bae2c",
   "metadata": {},
   "outputs": [],
   "source": [
    "# Data Cleaning Example\n",
    "data.dropna(inplace=True)"
   ]
  },
  {
   "cell_type": "code",
   "execution_count": 4,
   "id": "79721f7f-5af1-4410-b37f-181cafeb1688",
   "metadata": {},
   "outputs": [],
   "source": [
    "from mlxtend.preprocessing import TransactionEncoder\n",
    "te = TransactionEncoder()\n",
    "te_data = te.fit_transform(data.values)\n",
    "df = pd.DataFrame(te_data, columns=te.columns_)\n"
   ]
  },
  {
   "cell_type": "code",
   "execution_count": 5,
   "id": "736b20a6-fe86-4d4c-b8f6-b6e8d739f0bc",
   "metadata": {},
   "outputs": [],
   "source": [
    "from mlxtend.frequent_patterns import apriori, association_rules\n",
    "\n",
    "frequent_itemsets = apriori(df, min_support=0.01, use_colnames=True)\n",
    "rules = association_rules(frequent_itemsets, metric=\"lift\", min_threshold=1.0)\n"
   ]
  },
  {
   "cell_type": "code",
   "execution_count": 6,
   "id": "0b81c68f-2e07-4e00-be3a-46fb01e9d887",
   "metadata": {},
   "outputs": [
    {
     "data": {
      "text/plain": [
       "<function print(*args, sep=' ', end='\\n', file=None, flush=False)>"
      ]
     },
     "execution_count": 6,
     "metadata": {},
     "output_type": "execute_result"
    }
   ],
   "source": [
    "from mlxtend.preprocessing import TransactionEncoder\n",
    "import pandas as pd\n",
    "\n",
    "# Sample transactions\n",
    "transactions = [['milk', 'bread', 'butter'], ['bread', 'butter'], ['milk', 'bread']]\n",
    "\n",
    "# Transaction encoding\n",
    "te = TransactionEncoder()\n",
    "te_ary = te.fit_transform(transactions)\n",
    "df = pd.DataFrame(te_ary, columns=te.columns_)\n",
    "\n",
    "# Display the DataFrame\n",
    "print"
   ]
  },
  {
   "cell_type": "code",
   "execution_count": 7,
   "id": "ebcda427-f37e-47c2-9582-00c72bdb47bb",
   "metadata": {},
   "outputs": [
    {
     "name": "stdout",
     "output_type": "stream",
     "text": [
      "                                                   0\n",
      "0  shrimp,almonds,avocado,vegetables mix,green gr...\n",
      "1                             burgers,meatballs,eggs\n",
      "2                                            chutney\n",
      "3                                     turkey,avocado\n",
      "4  mineral water,milk,energy bar,whole wheat rice...\n"
     ]
    }
   ],
   "source": [
    "import pandas as pd\n",
    "\n",
    "# Correctly load the CSV file\n",
    "file_path = r\"D:\\Data since couress\\Association Rules\\Online retail.CSV\"\n",
    "data = pd.read_csv(file_path, header=None)  # Use read_csv for CSV files\n",
    "print(data.head())  # Display the first few rows\n"
   ]
  },
  {
   "cell_type": "code",
   "execution_count": 8,
   "id": "210adbfc-8127-4894-9232-a1b2b4393637",
   "metadata": {},
   "outputs": [],
   "source": [
    "from mlxtend.preprocessing import TransactionEncoder\n",
    "te = TransactionEncoder()\n",
    "te_data = te.fit_transform(data.values)\n",
    "df = pd.DataFrame(te_data, columns=te.columns_)\n"
   ]
  },
  {
   "cell_type": "code",
   "execution_count": 9,
   "id": "269272d7-4c47-466d-a13c-9749a576afb5",
   "metadata": {},
   "outputs": [],
   "source": [
    "from mlxtend.frequent_patterns import apriori, association_rules\n",
    "\n",
    "frequent_itemsets = apriori(df, min_support=0.01, use_colnames=True)\n",
    "rules = association_rules(frequent_itemsets, metric=\"lift\", min_threshold=1.0)\n"
   ]
  },
  {
   "cell_type": "code",
   "execution_count": 20,
   "id": "78bd5157-31e1-4706-a8d4-da706ef949db",
   "metadata": {},
   "outputs": [
    {
     "name": "stderr",
     "output_type": "stream",
     "text": [
      "C:\\ProgramData\\anaconda3\\Lib\\site-packages\\IPython\\core\\pylabtools.py:77: DeprecationWarning: backend2gui is deprecated since IPython 8.24, backends are managed in matplotlib and can be externally registered.\n",
      "  warnings.warn(\n",
      "C:\\ProgramData\\anaconda3\\Lib\\site-packages\\IPython\\core\\pylabtools.py:77: DeprecationWarning: backend2gui is deprecated since IPython 8.24, backends are managed in matplotlib and can be externally registered.\n",
      "  warnings.warn(\n",
      "C:\\ProgramData\\anaconda3\\Lib\\site-packages\\IPython\\core\\pylabtools.py:77: DeprecationWarning: backend2gui is deprecated since IPython 8.24, backends are managed in matplotlib and can be externally registered.\n",
      "  warnings.warn(\n"
     ]
    },
    {
     "data": {
      "image/png": "[encoded data removed]",
      "text/plain": [
       "<Figure size 640x480 with 1 Axes>"
      ]
     },
     "metadata": {},
     "output_type": "display_data"
    }
   ],
   "source": [
    "import seaborn as sns\n",
    "import matplotlib.pyplot as plt\n",
    "\n",
    "sns.scatterplot(x='support', y='confidence', data=rules)\n",
    "plt.title('Support vs Confidence')\n",
    "plt.show()\n"
   ]
  },
  {
   "cell_type": "code",
   "execution_count": null,
   "id": "6cdf1d5d-e60d-4682-bd7a-09f6222ccfd3",
   "metadata": {},
   "outputs": [],
   "source": []
  }
 ],
 "metadata": {
  "kernelspec": {
   "display_name": "Python 3 (ipykernel)",
   "language": "python",
   "name": "python3"
  },
  "language_info": {
   "codemirror_mode": {
    "name": "ipython",
    "version": 3
   },
   "file_extension": ".py",
   "mimetype": "text/x-python",
   "name": "python",
   "nbconvert_exporter": "python",
   "pygments_lexer": "ipython3",
   "version": "3.12.4"
  }
 },
 "nbformat": 4,
 "nbformat_minor": 5
}
