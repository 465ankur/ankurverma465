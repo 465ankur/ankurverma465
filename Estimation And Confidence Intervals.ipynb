{
 "cells": [
  {
   "cell_type": "code",
   "execution_count": 3,
   "id": "2d986984-fc06-4048-b54f-37cd9059654b",
   "metadata": {},
   "outputs": [
    {
     "name": "stdout",
     "output_type": "stream",
     "text": [
      "Sample Mean (x̄): 1.2386666666666666\n",
      "Sample Standard Deviation (s): 0.19316412956959936\n",
      "t-value (for 99% CI, df=14): 2.976842734370834\n",
      "Margin of Error (ME): 0.14846932822817596\n",
      "Confidence Interval (99%): (1.0901973384384906, 1.3871359948948425)\n"
     ]
    }
   ],
   "source": [
    "# Import necessary libraries\n",
    "import numpy as np\n",
    "from scipy import stats\n",
    "\n",
    "# Data\n",
    "data = [1.13, 1.55, 1.43, 0.92, 1.25, 1.36, 1.32, 0.85, 1.07, 1.48, 1.20, 1.33, 1.18, 1.22, 1.29]\n",
    "\n",
    "# Sample size\n",
    "n = len(data)\n",
    "\n",
    "# Sample mean\n",
    "mean = np.mean(data)\n",
    "\n",
    "# Sample standard deviation (using Bessel's correction, ddof=1)\n",
    "std_dev = np.std(data, ddof=1)\n",
    "\n",
    "# t-value for 99% confidence interval with (n-1) degrees of freedom\n",
    "t_value = stats.t.ppf(0.995, df=n-1)\n",
    "\n",
    "# Margin of Error\n",
    "margin_of_error = t_value * (std_dev / np.sqrt(n))\n",
    "\n",
    "# Confidence Interval\n",
    "confidence_interval = (mean - margin_of_error, mean + margin_of_error)\n",
    "\n",
    "# Print results\n",
    "print(\"Sample Mean (x̄):\", mean)\n",
    "print(\"Sample Standard Deviation (s):\", std_dev)\n",
    "print(\"t-value (for 99% CI, df=14):\", t_value)\n",
    "print(\"Margin of Error (ME):\", margin_of_error)\n",
    "print(\"Confidence Interval (99%):\", confidence_interval)\n"
   ]
  },
  {
   "cell_type": "code",
   "execution_count": 5,
   "id": "8b756f87-365f-45ca-a975-5a5a7dfd88f4",
   "metadata": {},
   "outputs": [
    {
     "name": "stdout",
     "output_type": "stream",
     "text": [
      "z-value (for 99% CI): 2.5758293035489004\n",
      "Margin of Error (ME) with known sigma: 0.13301525327090588\n",
      "Confidence Interval (99% with known sigma): (1.1056514133957607, 1.3716819199375725)\n"
     ]
    }
   ],
   "source": [
    "# Population standard deviation\n",
    "pop_std_dev = 0.2\n",
    "\n",
    "# z-value for 99% confidence interval\n",
    "z_value = stats.norm.ppf(0.995)\n",
    "\n",
    "# Margin of Error with known population standard deviation\n",
    "margin_of_error_known_sigma = z_value * (pop_std_dev / np.sqrt(n))\n",
    "\n",
    "# Confidence Interval\n",
    "confidence_interval_known_sigma = (mean - margin_of_error_known_sigma, mean + margin_of_error_known_sigma)\n",
    "\n",
    "# Print results\n",
    "print(\"z-value (for 99% CI):\", z_value)\n",
    "print(\"Margin of Error (ME) with known sigma:\", margin_of_error_known_sigma)\n",
    "print(\"Confidence Interval (99% with known sigma):\", confidence_interval_known_sigma)\n"
   ]
  },
  {
   "cell_type": "code",
   "execution_count": null,
   "id": "6f1ae1dc-4de0-4c8a-9701-88d237ae6f1d",
   "metadata": {},
   "outputs": [],
   "source": []
  }
 ],
 "metadata": {
  "kernelspec": {
   "display_name": "Python 3 (ipykernel)",
   "language": "python",
   "name": "python3"
  },
  "language_info": {
   "codemirror_mode": {
    "name": "ipython",
    "version": 3
   },
   "file_extension": ".py",
   "mimetype": "text/x-python",
   "name": "python",
   "nbconvert_exporter": "python",
   "pygments_lexer": "ipython3",
   "version": "3.12.4"
  }
 },
 "nbformat": 4,
 "nbformat_minor": 5
}
