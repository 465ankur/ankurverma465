{
 "cells": [
  {
   "cell_type": "code",
   "execution_count": 1,
   "id": "b107c074-e4d0-4335-8e5d-be9b0f80982c",
   "metadata": {},
   "outputs": [
    {
     "name": "stdout",
     "output_type": "stream",
     "text": [
      "                                                Data       Labels\n",
      "0  Path: cantaloupe.srv.cs.cmu.edu!magnesium.club...  alt.atheism\n",
      "1  Newsgroups: alt.atheism\\nPath: cantaloupe.srv....  alt.atheism\n",
      "2  Path: cantaloupe.srv.cs.cmu.edu!das-news.harva...  alt.atheism\n",
      "3  Path: cantaloupe.srv.cs.cmu.edu!magnesium.club...  alt.atheism\n",
      "4  Xref: cantaloupe.srv.cs.cmu.edu alt.atheism:53...  alt.atheism\n"
     ]
    }
   ],
   "source": [
    "import pandas as pd\n",
    "\n",
    "df = pd.read_csv(r\"D:\\Data since couress\\NLP and Naive\\blogs.csv\")\n",
    "print(df.head())"
   ]
  },
  {
   "cell_type": "code",
   "execution_count": 8,
   "id": "4f43a2cc-09c2-4009-8dd2-cb6ff5b20c8c",
   "metadata": {},
   "outputs": [
    {
     "name": "stderr",
     "output_type": "stream",
     "text": [
      "[nltk_data] Downloading package stopwords to\n",
      "[nltk_data]     C:\\Users\\AnkurS.Verma\\AppData\\Roaming\\nltk_data...\n",
      "[nltk_data]   Package stopwords is already up-to-date!\n"
     ]
    }
   ],
   "source": [
    "import re\n",
    "import nltk\n",
    "from nltk.corpus import stopwords\n",
    "\n",
    "nltk.download('stopwords')\n",
    "\n",
    "def clean_text(text):\n",
    "    text = text.lower()\n",
    "    text = re.sub(r'\\W', ' ', text)  # Remove non-word characters\n",
    "    text = ' '.join([word for word in text.split() if word not in stopwords.words('english')])\n",
    "    return text\n",
    "\n",
    "df['Data'] = df['Data'].apply(clean_text)"
   ]
  },
  {
   "cell_type": "code",
   "execution_count": 2,
   "id": "44983961-3676-48e3-ad34-7966178a6539",
   "metadata": {},
   "outputs": [],
   "source": [
    "from sklearn.feature_extraction.text import TfidfVectorizer\n",
    "\n",
    "vectorizer = TfidfVectorizer()\n",
    "X = vectorizer.fit_transform(df['Data'])\n",
    "y = df['Labels']"
   ]
  },
  {
   "cell_type": "code",
   "execution_count": 3,
   "id": "c1b9bdc5-6eeb-4188-a1d4-c58c98144ade",
   "metadata": {},
   "outputs": [],
   "source": [
    "from sklearn.model_selection import train_test_split\n",
    "\n",
    "X_train, X_test, y_train, y_test = train_test_split(X, y, test_size=0.2, random_state=42)"
   ]
  },
  {
   "cell_type": "code",
   "execution_count": 4,
   "id": "93c0ed17-a892-4045-8b3f-af4880a85748",
   "metadata": {},
   "outputs": [],
   "source": [
    "from sklearn.model_selection import train_test_split\n",
    "\n",
    "X_train, X_test, y_train, y_test = train_test_split(X, y, test_size=0.2, random_state=42)"
   ]
  },
  {
   "cell_type": "code",
   "execution_count": 5,
   "id": "cdd7cb25-fdd1-41f3-b1e1-03ac580138c9",
   "metadata": {},
   "outputs": [
    {
     "name": "stdout",
     "output_type": "stream",
     "text": [
      "Accuracy: 0.73\n",
      "                          precision    recall  f1-score   support\n",
      "\n",
      "             alt.atheism       0.58      0.83      0.68        18\n",
      "           comp.graphics       0.81      0.72      0.76        18\n",
      " comp.os.ms-windows.misc       0.77      0.91      0.83        22\n",
      "comp.sys.ibm.pc.hardware       0.75      0.84      0.79        25\n",
      "   comp.sys.mac.hardware       0.83      0.48      0.61        21\n",
      "          comp.windows.x       1.00      0.16      0.28        25\n",
      "            misc.forsale       1.00      0.72      0.84        18\n",
      "               rec.autos       0.76      0.89      0.82        18\n",
      "         rec.motorcycles       0.87      0.81      0.84        16\n",
      "      rec.sport.baseball       0.94      0.83      0.88        18\n",
      "        rec.sport.hockey       0.62      1.00      0.77        15\n",
      "               sci.crypt       0.58      1.00      0.73        19\n",
      "         sci.electronics       0.77      0.62      0.69        16\n",
      "                 sci.med       0.81      0.76      0.79        17\n",
      "               sci.space       1.00      0.90      0.95        21\n",
      "  soc.religion.christian       0.77      1.00      0.87        23\n",
      "      talk.politics.guns       0.93      0.50      0.65        28\n",
      "   talk.politics.mideast       0.95      0.95      0.95        20\n",
      "      talk.politics.misc       0.35      0.83      0.49        18\n",
      "      talk.religion.misc       0.50      0.21      0.29        24\n",
      "\n",
      "                accuracy                           0.73       400\n",
      "               macro avg       0.78      0.75      0.73       400\n",
      "            weighted avg       0.79      0.73      0.71       400\n",
      "\n"
     ]
    }
   ],
   "source": [
    "from sklearn.naive_bayes import MultinomialNB\n",
    "from sklearn.metrics import accuracy_score, classification_report\n",
    "\n",
    "model = MultinomialNB()\n",
    "model.fit(X_train, y_train)\n",
    "y_pred = model.predict(X_test)\n",
    "\n",
    "print(\"Accuracy:\", accuracy_score(y_test, y_pred))\n",
    "print(classification_report(y_test, y_pred))"
   ]
  },
  {
   "cell_type": "code",
   "execution_count": 10,
   "id": "a713d39f-484d-44fa-945d-7a5847fec895",
   "metadata": {},
   "outputs": [
    {
     "name": "stdout",
     "output_type": "stream",
     "text": [
      "Labels                    Sentiment\n",
      "alt.atheism               Positive     69\n",
      "                          Negative     31\n",
      "comp.graphics             Positive     76\n",
      "                          Negative     24\n",
      "comp.os.ms-windows.misc   Positive     81\n",
      "                          Negative     18\n",
      "                          Neutral       1\n",
      "comp.sys.ibm.pc.hardware  Positive     83\n",
      "                          Negative     17\n",
      "comp.sys.mac.hardware     Positive     75\n",
      "                          Negative     25\n",
      "comp.windows.x            Positive     81\n",
      "                          Negative     18\n",
      "                          Neutral       1\n",
      "misc.forsale              Positive     80\n",
      "                          Negative     20\n",
      "rec.autos                 Positive     80\n",
      "                          Negative     20\n",
      "rec.motorcycles           Positive     73\n",
      "                          Negative     27\n",
      "rec.sport.baseball        Positive     67\n",
      "                          Negative     33\n",
      "rec.sport.hockey          Positive     61\n",
      "                          Negative     39\n",
      "sci.crypt                 Positive     80\n",
      "                          Negative     20\n",
      "sci.electronics           Positive     78\n",
      "                          Negative     22\n",
      "sci.med                   Positive     67\n",
      "                          Negative     33\n",
      "sci.space                 Positive     74\n",
      "                          Negative     26\n",
      "soc.religion.christian    Positive     79\n",
      "                          Negative     21\n",
      "talk.politics.guns        Positive     62\n",
      "                          Negative     37\n",
      "                          Neutral       1\n",
      "talk.politics.mideast     Positive     74\n",
      "                          Negative     26\n",
      "talk.politics.misc        Positive     76\n",
      "                          Negative     24\n",
      "talk.religion.misc        Positive     81\n",
      "                          Negative     19\n",
      "Name: count, dtype: int64\n"
     ]
    }
   ],
   "source": [
    "from textblob import TextBlob\n",
    "\n",
    "def get_sentiment(text):\n",
    "    sentiment = TextBlob(text).sentiment.polarity\n",
    "    if sentiment > 0:\n",
    "        return \"Positive\"\n",
    "    elif sentiment < 0:\n",
    "        return \"Negative\"\n",
    "    else:\n",
    "        return \"Neutral\"\n",
    "\n",
    "df['Sentiment'] = df['Data'].apply(get_sentiment)\n",
    "print(df[['Labels', 'Sentiment']].groupby('Labels').value_counts())"
   ]
  },
  {
   "cell_type": "code",
   "execution_count": 9,
   "id": "59e17475-621d-4f3c-9284-0884cd640a29",
   "metadata": {},
   "outputs": [
    {
     "name": "stderr",
     "output_type": "stream",
     "text": [
      "[nltk_data] Downloading package punkt to\n",
      "[nltk_data]     C:\\Users\\AnkurS.Verma\\AppData\\Roaming\\nltk_data...\n",
      "[nltk_data] Error downloading 'punkt' from\n",
      "[nltk_data]     <https://raw.githubusercontent.com/nltk/nltk_data/gh-\n",
      "[nltk_data]     pages/packages/tokenizers/punkt.zip>:   HTTP Error\n",
      "[nltk_data]     429: Too Many Requests\n"
     ]
    },
    {
     "data": {
      "text/plain": [
       "False"
      ]
     },
     "execution_count": 9,
     "metadata": {},
     "output_type": "execute_result"
    }
   ],
   "source": [
    "import nltk\n",
    "nltk.download('punkt')"
   ]
  },
  {
   "cell_type": "code",
   "execution_count": null,
   "id": "2a5e3913-d67d-44be-b162-2152b101e8e6",
   "metadata": {},
   "outputs": [],
   "source": []
  }
 ],
 "metadata": {
  "kernelspec": {
   "display_name": "Python 3 (ipykernel)",
   "language": "python",
   "name": "python3"
  },
  "language_info": {
   "codemirror_mode": {
    "name": "ipython",
    "version": 3
   },
   "file_extension": ".py",
   "mimetype": "text/x-python",
   "name": "python",
   "nbconvert_exporter": "python",
   "pygments_lexer": "ipython3",
   "version": "3.12.4"
  }
 },
 "nbformat": 4,
 "nbformat_minor": 5
}
