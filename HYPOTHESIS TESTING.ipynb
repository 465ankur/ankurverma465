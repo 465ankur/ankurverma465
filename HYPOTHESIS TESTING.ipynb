{
 "cells": [
  {
   "cell_type": "code",
   "execution_count": 1,
   "id": "631d0a03-576f-4cc8-8e82-ff4814515d7f",
   "metadata": {},
   "outputs": [
    {
     "name": "stdout",
     "output_type": "stream",
     "text": [
      "Test Statistic: -38.0\n",
      "Critical Value: 1.6448536269514722\n",
      "Fail to reject the null hypothesis. There is not enough evidence to support the restaurant owners' claim that the weekly operating costs are higher than the model suggests.\n"
     ]
    }
   ],
   "source": [
    "#Python Implementation\n",
    "\n",
    "import math\n",
    "import scipy.stats as stats\n",
    "\n",
    "# Given data\n",
    "sample_mean = 3050\n",
    "units_mean = 600\n",
    "units_std = 25\n",
    "sample_size = 25\n",
    "\n",
    "# Theoretical mean weekly cost according to the cost model\n",
    "theoretical_mean = 1000 + 5 * units_mean\n",
    "\n",
    "# Standard deviation for weekly cost\n",
    "weekly_cost_std = 5 * units_std\n",
    "\n",
    "# Calculate the test statistic (t)\n",
    "test_statistic = (sample_mean - theoretical_mean) / (weekly_cost_std / math.sqrt(sample_size))\n",
    "\n",
    "# Determine the critical value for alpha = 0.05 (one-tailed test)\n",
    "alpha = 0.05\n",
    "critical_value = stats.norm.ppf(1 - alpha)\n",
    "\n",
    "# Print results\n",
    "print(f\"Test Statistic: {test_statistic}\")\n",
    "print(f\"Critical Value: {critical_value}\")\n",
    "\n",
    "if test_statistic > critical_value:\n",
    "    print(\"Reject the null hypothesis. There is strong evidence to support the restaurant owners' claim that the weekly operating costs are higher than the model suggests.\")\n",
    "else:\n",
    "    print(\"Fail to reject the null hypothesis. There is not enough evidence to support the restaurant owners' claim that the weekly operating costs are higher than the model suggests.\")\n"
   ]
  },
  {
   "cell_type": "code",
   "execution_count": null,
   "id": "092fdb60-1c9e-4dea-8362-c2448848ad79",
   "metadata": {},
   "outputs": [],
   "source": []
  }
 ],
 "metadata": {
  "kernelspec": {
   "display_name": "Python 3 (ipykernel)",
   "language": "python",
   "name": "python3"
  },
  "language_info": {
   "codemirror_mode": {
    "name": "ipython",
    "version": 3
   },
   "file_extension": ".py",
   "mimetype": "text/x-python",
   "name": "python",
   "nbconvert_exporter": "python",
   "pygments_lexer": "ipython3",
   "version": "3.12.4"
  }
 },
 "nbformat": 4,
 "nbformat_minor": 5
}
